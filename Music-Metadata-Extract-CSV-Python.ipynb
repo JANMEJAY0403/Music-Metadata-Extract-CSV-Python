{
 "cells": [
  {
   "cell_type": "markdown",
   "id": "294f61b0",
   "metadata": {},
   "source": [
    "# Music-Metadata-Extract-CSV-Python\n",
    "Python projects to extract the metadata of all mp3 and m4a files to a csv.\n",
    "## Purpose: \n",
    "I have a huge collection of songs from before the age of 4G. All I needed was a list of all the songs and their metadata that I have in my collection.With this programme, all I am doing is reading the metadata of a song file and extracting the album name, artist name, and genre to a csv file.\n",
    "## Requirements-\n",
    "music-tab\n",
    "csv\n",
    "os\n",
    "\n",
    "### installing packages: \n",
    "pip install music-tag"
   ]
  },
  {
   "cell_type": "code",
   "execution_count": null,
   "id": "a6b46166",
   "metadata": {},
   "outputs": [],
   "source": [
    "pip install music-tag"
   ]
  },
  {
   "cell_type": "code",
   "execution_count": null,
   "id": "207566f3",
   "metadata": {},
   "outputs": [],
   "source": [
    "import music_tag\n",
    "import os\n",
    "from csv import writer"
   ]
  },
  {
   "cell_type": "code",
   "execution_count": null,
   "id": "57d37f65",
   "metadata": {},
   "outputs": [],
   "source": [
    "dire=r\"E:/\"\n",
    "with open('Songs.csv', 'a',encoding='utf-8', newline='') as f_object:\n",
    "    writer_object = writer(f_object)\n",
    "    writer_object.writerow(['File','Title','Album','Artist','Genre'])\n",
    "    for root, dir ,files in os.walk(dire):\n",
    "        for file in files:\n",
    "            if not ((file.endswith('.mp3')) or (file.endswith('.m4a'))):\n",
    "                continue\n",
    "            print(root , file )\n",
    "            f = music_tag.load_file(root + r\"/\" + file)\n",
    "            title=str(f['title'])\n",
    "            album=str(f['album'])\n",
    "            artist= str(f['artist'])\n",
    "            genre= str(f['genre']) \n",
    "            song_details=[file ,title, album, artist ,genre ]\n",
    "            writer_object.writerow(song_details)\n",
    "            print(song_details)\n",
    "    #         print(f['title'], f['album'], f['artist'] ,f['genre'])\n",
    "\n",
    "        print(\"***********************************walking to next folder**********************************************\")\n",
    "\n",
    "f_object.close() "
   ]
  }
 ],
 "metadata": {
  "kernelspec": {
   "display_name": "Python 3 (ipykernel)",
   "language": "python",
   "name": "python3"
  },
  "language_info": {
   "codemirror_mode": {
    "name": "ipython",
    "version": 3
   },
   "file_extension": ".py",
   "mimetype": "text/x-python",
   "name": "python",
   "nbconvert_exporter": "python",
   "pygments_lexer": "ipython3",
   "version": "3.11.3"
  }
 },
 "nbformat": 4,
 "nbformat_minor": 5
}
